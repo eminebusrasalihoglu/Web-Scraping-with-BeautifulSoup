{
 "cells": [
  {
   "cell_type": "markdown",
   "metadata": {},
   "source": [
    "# **Write to excel**"
   ]
  },
  {
   "cell_type": "code",
   "execution_count": 2,
   "metadata": {},
   "outputs": [],
   "source": [
    "import openpyxl"
   ]
  },
  {
   "cell_type": "code",
   "execution_count": 3,
   "metadata": {},
   "outputs": [],
   "source": [
    "book = openpyxl.load_workbook('total.xlsx')\n",
    "sheet = book.active\n",
    "\n",
    "def ad(count,x):\n",
    "    location = \"A\" + str(count)\n",
    "    sheet[location] = x\n",
    "def isletim(count,x):\n",
    "    location = \"B\" + str(count)\n",
    "    sheet[location] = x\n",
    "def ram(count,x):\n",
    "    location = \"C\" + str(count)\n",
    "    sheet[location] = x\n",
    "def islemci(count,x):\n",
    "    location = \"D\" + str(count)\n",
    "    sheet[location] = x\n",
    "def ekranHafiza(count,x):\n",
    "    location = \"E\" + str(count)\n",
    "    sheet[location] = x\n",
    "def ekranKart(count,x):\n",
    "    location = \"F\" + str(count)\n",
    "    sheet[location] = x\n",
    "def ekranBoyut(count,x):\n",
    "    location = \"G\" + str(count)\n",
    "    sheet[location] = x\n",
    "def harddisk(count,x):\n",
    "    location = \"H\" + str(count)\n",
    "    sheet[location] = x\n",
    "def islemciTip(count,x):\n",
    "    location = \"I\" + str(count)\n",
    "    sheet[location] = x\n",
    "def fiyat(count,x):\n",
    "    location = \"J\" + str(count)\n",
    "    sheet[location] = x\n"
   ]
  },
  {
   "cell_type": "markdown",
   "metadata": {},
   "source": [
    "# **Scraping**"
   ]
  },
  {
   "cell_type": "code",
   "execution_count": 5,
   "metadata": {},
   "outputs": [],
   "source": [
    "import requests as rs\n",
    "from bs4 import BeautifulSoup as bs"
   ]
  },
  {
   "cell_type": "code",
   "execution_count": 6,
   "metadata": {},
   "outputs": [],
   "source": [
    "count = 1\n",
    "for pageNo in range(1,51): #web sites page number\n",
    "    url = \"https://www.####################page=\" + str(pageNo)\n",
    "    myHeader ={\"User-Agent\":\"####################################\"}\n",
    "    r = rs.get(url , headers = myHeader)\n",
    "    soup = bs(r.content , \"lxml\")\n",
    "    urunler = soup.find_all(\"li\" , {\"class\":\"search-item\"})\n",
    "    \n",
    "    \n",
    "    for urun in urunler:\n",
    "        count = count + 1\n",
    "        link = urun.find(\"div\",{\"class\":\"box\"}).a.get(\"href\")\n",
    "        link = \"https://www.###########.com/\" + link #to connect to the homepage\n",
    "        product_source = rs.get(link,headers = myHeader)\n",
    "        \n",
    "        product_content = bs(product_source.content)\n",
    "        properties = product_content.find_all(\"div\",{\"class\":\"key-properties\"})\n",
    "        \n",
    "        \n",
    "        for i in properties:\n",
    "            ad(count,product_content.h1.text)\n",
    "            \n",
    "            for li in i.find_all(\"li\"):\n",
    "                product_name = li.find(\"strong\").text\n",
    "                product_property = li.find(\"span\").text\n",
    "                if(product_name ==\" İşletim Sistemi \"):\n",
    "                    isletim(count,product_property)\n",
    "                if(product_name ==\" Ram (Sistem Belleği) \"):\n",
    "                    ram(count,product_property)\n",
    "                if(product_name ==\" İşlemci \"):\n",
    "                    islemci(count,product_property)\n",
    "                if(product_name ==\" Ekran Kartı Hafızası \"):\n",
    "                    ekranHafiza(count,product_property)\n",
    "                if(product_name ==\" Ekran Kartı \"):\n",
    "                    ekranKart(count,product_property)\n",
    "                if(product_name ==\" Ekran Boyutu \"):\n",
    "                    ekranBoyut(count,product_property)\n",
    "                if(product_name ==\" Harddisk Kapasitesi \"):\n",
    "                    harddisk(count,product_property)\n",
    "                if(product_name ==\" İşlemci Tipi \"):\n",
    "                    islemciTip(count,product_property)\n",
    "                \n",
    "       \n",
    "        price_soup = product_content.find(\"div\",{\"class\":\"product-price-wrapper\"})\n",
    "        price = price_soup.find(\"div\",{\"class\":\"extra-discount-price\"}).span.text\n",
    "        fiyat(count,price)\n",
    "                       \n",
    "book.save(\"total.xlsx\")"
   ]
  },
  {
   "cell_type": "code",
   "execution_count": null,
   "metadata": {},
   "outputs": [],
   "source": []
  }
 ],
 "metadata": {
  "kernelspec": {
   "display_name": "Python 3",
   "language": "python",
   "name": "python3"
  },
  "language_info": {
   "codemirror_mode": {
    "name": "ipython",
    "version": 3
   },
   "file_extension": ".py",
   "mimetype": "text/x-python",
   "name": "python",
   "nbconvert_exporter": "python",
   "pygments_lexer": "ipython3",
   "version": "3.7.6"
  }
 },
 "nbformat": 4,
 "nbformat_minor": 4
}
